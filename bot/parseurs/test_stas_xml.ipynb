{
 "cells": [
  {
   "cell_type": "code",
   "execution_count": 1,
   "metadata": {},
   "outputs": [],
   "source": [
    "import pandas as pd\n",
    "\n",
    "root_path = '../../data/STAS/'\n",
    "def nb_unique_values_per_column(df):\n",
    "    for col in df.columns:\n",
    "        print(f\"{col}: {df[col].nunique()}\")"
   ]
  },
  {
   "attachments": {},
   "cell_type": "markdown",
   "metadata": {},
   "source": [
    "# Chargement des fichiers xml"
   ]
  },
  {
   "cell_type": "code",
   "execution_count": 5,
   "metadata": {},
   "outputs": [
    {
     "ename": "ImportError",
     "evalue": "lxml not found, please install or use the etree parser.",
     "output_type": "error",
     "traceback": [
      "\u001b[1;31m---------------------------------------------------------------------------\u001b[0m",
      "\u001b[1;31mImportError\u001b[0m                               Traceback (most recent call last)",
      "Cell \u001b[1;32mIn[5], line 2\u001b[0m\n\u001b[0;32m      1\u001b[0m path \u001b[39m=\u001b[39m root_path\u001b[39m+\u001b[39m\u001b[39m'\u001b[39m\u001b[39marrets.xml\u001b[39m\u001b[39m'\u001b[39m\n\u001b[1;32m----> 2\u001b[0m arrets_df \u001b[39m=\u001b[39m pd\u001b[39m.\u001b[39;49mread_xml(path)\n",
      "File \u001b[1;32m~\\AppData\\Local\\Packages\\PythonSoftwareFoundation.Python.3.10_qbz5n2kfra8p0\\LocalCache\\local-packages\\Python310\\site-packages\\pandas\\util\\_decorators.py:331\u001b[0m, in \u001b[0;36mdeprecate_nonkeyword_arguments.<locals>.decorate.<locals>.wrapper\u001b[1;34m(*args, **kwargs)\u001b[0m\n\u001b[0;32m    325\u001b[0m \u001b[39mif\u001b[39;00m \u001b[39mlen\u001b[39m(args) \u001b[39m>\u001b[39m num_allow_args:\n\u001b[0;32m    326\u001b[0m     warnings\u001b[39m.\u001b[39mwarn(\n\u001b[0;32m    327\u001b[0m         msg\u001b[39m.\u001b[39mformat(arguments\u001b[39m=\u001b[39m_format_argument_list(allow_args)),\n\u001b[0;32m    328\u001b[0m         \u001b[39mFutureWarning\u001b[39;00m,\n\u001b[0;32m    329\u001b[0m         stacklevel\u001b[39m=\u001b[39mfind_stack_level(),\n\u001b[0;32m    330\u001b[0m     )\n\u001b[1;32m--> 331\u001b[0m \u001b[39mreturn\u001b[39;00m func(\u001b[39m*\u001b[39margs, \u001b[39m*\u001b[39m\u001b[39m*\u001b[39mkwargs)\n",
      "File \u001b[1;32m~\\AppData\\Local\\Packages\\PythonSoftwareFoundation.Python.3.10_qbz5n2kfra8p0\\LocalCache\\local-packages\\Python310\\site-packages\\pandas\\io\\xml.py:1088\u001b[0m, in \u001b[0;36mread_xml\u001b[1;34m(path_or_buffer, xpath, namespaces, elems_only, attrs_only, names, dtype, converters, parse_dates, encoding, parser, stylesheet, iterparse, compression, storage_options)\u001b[0m\n\u001b[0;32m    838\u001b[0m \u001b[39m@deprecate_nonkeyword_arguments\u001b[39m(version\u001b[39m=\u001b[39m\u001b[39mNone\u001b[39;00m, allowed_args\u001b[39m=\u001b[39m[\u001b[39m\"\u001b[39m\u001b[39mpath_or_buffer\u001b[39m\u001b[39m\"\u001b[39m])\n\u001b[0;32m    839\u001b[0m \u001b[39m@doc\u001b[39m(\n\u001b[0;32m    840\u001b[0m     storage_options\u001b[39m=\u001b[39m_shared_docs[\u001b[39m\"\u001b[39m\u001b[39mstorage_options\u001b[39m\u001b[39m\"\u001b[39m],\n\u001b[1;32m   (...)\u001b[0m\n\u001b[0;32m    859\u001b[0m     storage_options: StorageOptions \u001b[39m=\u001b[39m \u001b[39mNone\u001b[39;00m,\n\u001b[0;32m    860\u001b[0m ) \u001b[39m-\u001b[39m\u001b[39m>\u001b[39m DataFrame:\n\u001b[0;32m    861\u001b[0m \u001b[39m    \u001b[39m\u001b[39mr\u001b[39m\u001b[39m\"\"\"\u001b[39;00m\n\u001b[0;32m    862\u001b[0m \u001b[39m    Read XML document into a ``DataFrame`` object.\u001b[39;00m\n\u001b[0;32m    863\u001b[0m \n\u001b[1;32m   (...)\u001b[0m\n\u001b[0;32m   1085\u001b[0m \u001b[39m    2  triangle      180    3.0\u001b[39;00m\n\u001b[0;32m   1086\u001b[0m \u001b[39m    \"\"\"\u001b[39;00m\n\u001b[1;32m-> 1088\u001b[0m     \u001b[39mreturn\u001b[39;00m _parse(\n\u001b[0;32m   1089\u001b[0m         path_or_buffer\u001b[39m=\u001b[39;49mpath_or_buffer,\n\u001b[0;32m   1090\u001b[0m         xpath\u001b[39m=\u001b[39;49mxpath,\n\u001b[0;32m   1091\u001b[0m         namespaces\u001b[39m=\u001b[39;49mnamespaces,\n\u001b[0;32m   1092\u001b[0m         elems_only\u001b[39m=\u001b[39;49melems_only,\n\u001b[0;32m   1093\u001b[0m         attrs_only\u001b[39m=\u001b[39;49mattrs_only,\n\u001b[0;32m   1094\u001b[0m         names\u001b[39m=\u001b[39;49mnames,\n\u001b[0;32m   1095\u001b[0m         dtype\u001b[39m=\u001b[39;49mdtype,\n\u001b[0;32m   1096\u001b[0m         converters\u001b[39m=\u001b[39;49mconverters,\n\u001b[0;32m   1097\u001b[0m         parse_dates\u001b[39m=\u001b[39;49mparse_dates,\n\u001b[0;32m   1098\u001b[0m         encoding\u001b[39m=\u001b[39;49mencoding,\n\u001b[0;32m   1099\u001b[0m         parser\u001b[39m=\u001b[39;49mparser,\n\u001b[0;32m   1100\u001b[0m         stylesheet\u001b[39m=\u001b[39;49mstylesheet,\n\u001b[0;32m   1101\u001b[0m         iterparse\u001b[39m=\u001b[39;49miterparse,\n\u001b[0;32m   1102\u001b[0m         compression\u001b[39m=\u001b[39;49mcompression,\n\u001b[0;32m   1103\u001b[0m         storage_options\u001b[39m=\u001b[39;49mstorage_options,\n\u001b[0;32m   1104\u001b[0m     )\n",
      "File \u001b[1;32m~\\AppData\\Local\\Packages\\PythonSoftwareFoundation.Python.3.10_qbz5n2kfra8p0\\LocalCache\\local-packages\\Python310\\site-packages\\pandas\\io\\xml.py:805\u001b[0m, in \u001b[0;36m_parse\u001b[1;34m(path_or_buffer, xpath, namespaces, elems_only, attrs_only, names, dtype, converters, parse_dates, encoding, parser, stylesheet, iterparse, compression, storage_options, **kwargs)\u001b[0m\n\u001b[0;32m    788\u001b[0m         p \u001b[39m=\u001b[39m _LxmlFrameParser(\n\u001b[0;32m    789\u001b[0m             path_or_buffer,\n\u001b[0;32m    790\u001b[0m             xpath,\n\u001b[1;32m   (...)\u001b[0m\n\u001b[0;32m    802\u001b[0m             storage_options,\n\u001b[0;32m    803\u001b[0m         )\n\u001b[0;32m    804\u001b[0m     \u001b[39melse\u001b[39;00m:\n\u001b[1;32m--> 805\u001b[0m         \u001b[39mraise\u001b[39;00m \u001b[39mImportError\u001b[39;00m(\u001b[39m\"\u001b[39m\u001b[39mlxml not found, please install or use the etree parser.\u001b[39m\u001b[39m\"\u001b[39m)\n\u001b[0;32m    807\u001b[0m \u001b[39melif\u001b[39;00m parser \u001b[39m==\u001b[39m \u001b[39m\"\u001b[39m\u001b[39metree\u001b[39m\u001b[39m\"\u001b[39m:\n\u001b[0;32m    808\u001b[0m     p \u001b[39m=\u001b[39m _EtreeFrameParser(\n\u001b[0;32m    809\u001b[0m         path_or_buffer,\n\u001b[0;32m    810\u001b[0m         xpath,\n\u001b[1;32m   (...)\u001b[0m\n\u001b[0;32m    822\u001b[0m         storage_options,\n\u001b[0;32m    823\u001b[0m     )\n",
      "\u001b[1;31mImportError\u001b[0m: lxml not found, please install or use the etree parser."
     ]
    }
   ],
   "source": [
    "path = root_path+'arrets.xml'\n",
    "arrets_df = pd.read_xml(path)"
   ]
  },
  {
   "cell_type": "code",
   "execution_count": null,
   "metadata": {},
   "outputs": [],
   "source": []
  }
 ],
 "metadata": {
  "kernelspec": {
   "display_name": "Python 3",
   "language": "python",
   "name": "python3"
  },
  "language_info": {
   "codemirror_mode": {
    "name": "ipython",
    "version": 3
   },
   "file_extension": ".py",
   "mimetype": "text/x-python",
   "name": "python",
   "nbconvert_exporter": "python",
   "pygments_lexer": "ipython3",
   "version": "3.10.8"
  },
  "orig_nbformat": 4,
  "vscode": {
   "interpreter": {
    "hash": "c6d88fc2d417d38d3c6e30f264416dce9d9aae60518bf6daf57927d698a3ada2"
   }
  }
 },
 "nbformat": 4,
 "nbformat_minor": 2
}
